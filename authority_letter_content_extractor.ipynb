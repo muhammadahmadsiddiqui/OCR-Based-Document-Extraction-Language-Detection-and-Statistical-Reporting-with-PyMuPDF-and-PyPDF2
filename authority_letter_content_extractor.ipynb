{
 "cells": [
  {
   "cell_type": "code",
   "execution_count": 1,
   "id": "8ad6b315-e60e-4b2b-99b0-2f4b2551dc16",
   "metadata": {},
   "outputs": [],
   "source": [
    "import fitz  # PyMuPDF\n",
    "import PyPDF2\n",
    "from PIL import Image\n",
    "import pytesseract\n",
    "import extract_msg\n",
    "import json\n",
    "import os\n",
    "from langdetect import detect, DetectorFactory"
   ]
  },
  {
   "cell_type": "code",
   "execution_count": 2,
   "id": "5ffd5cd3-1616-4991-be28-2264e165d334",
   "metadata": {},
   "outputs": [],
   "source": [
    "# Set the seed for language detection to ensure consistent results\n",
    "DetectorFactory.seed = 0"
   ]
  },
  {
   "cell_type": "code",
   "execution_count": 3,
   "id": "346b15fb-8283-4c43-ac03-959cf4609e09",
   "metadata": {},
   "outputs": [],
   "source": [
    "# Define the path to the folder containing documents\n",
    "folder_path = './docs/'"
   ]
  },
  {
   "cell_type": "code",
   "execution_count": 4,
   "id": "ab522dd0-3203-4af2-b811-61cbba1b994d",
   "metadata": {},
   "outputs": [],
   "source": [
    "def preprocess_image(image):\n",
    "    \"\"\"\n",
    "    Preprocess the image to improve OCR accuracy.\n",
    "    - Convert to grayscale\n",
    "    - Apply binarization\n",
    "\n",
    "    Args:\n",
    "        image (PIL.Image): The image to preprocess.\n",
    "\n",
    "    Returns:\n",
    "        PIL.Image: The preprocessed image.\n",
    "    \"\"\"\n",
    "    gray = image.convert('L')  # Convert to grayscale\n",
    "    binarized = gray.point(lambda x: 0 if x < 128 else 255, '1')  # Binarization\n",
    "    return binarized"
   ]
  },
  {
   "cell_type": "code",
   "execution_count": 5,
   "id": "2d58bf44-3497-4641-a9ef-406ab758b4e5",
   "metadata": {},
   "outputs": [],
   "source": [
    "def extract_text_with_ocr(page):\n",
    "    \"\"\"\n",
    "    Extract text from a PDF page using OCR.\n",
    "\n",
    "    Args:\n",
    "        page (fitz.Page): The PDF page to extract text from.\n",
    "\n",
    "    Returns:\n",
    "        str: The extracted text.\n",
    "    \"\"\"\n",
    "    pix = page.get_pixmap(dpi=300)  # Increase DPI for better OCR accuracy\n",
    "    img = Image.frombytes(\"RGB\", [pix.width, pix.height], pix.samples)\n",
    "\n",
    "    # Preprocess the image before OCR\n",
    "    preprocessed_img = preprocess_image(img)\n",
    "    text = pytesseract.image_to_string(preprocessed_img)\n",
    "    return text"
   ]
  },
  {
   "cell_type": "code",
   "execution_count": 6,
   "id": "f99daf5c-9db1-4175-911d-26f23f9bf6a1",
   "metadata": {},
   "outputs": [],
   "source": [
    "def extract_text_from_pdf(file_path):\n",
    "    \"\"\"\n",
    "    Extracts text from a PDF file using a hybrid approach.\n",
    "    Tries direct text extraction with PyPDF2 first, and falls back to OCR if necessary.\n",
    "\n",
    "    Args:\n",
    "        file_path (str): The path to the PDF file.\n",
    "\n",
    "    Returns:\n",
    "        str: The extracted text from the PDF file.\n",
    "    \"\"\"\n",
    "    full_text = ''\n",
    "    try:\n",
    "        with open(file_path, 'rb') as file:\n",
    "            reader = PyPDF2.PdfReader(file)\n",
    "            for page_num in range(len(reader.pages)):\n",
    "                page = reader.pages[page_num]\n",
    "                text = page.extract_text()\n",
    "\n",
    "                if text and text.strip():  # If text extraction is successful\n",
    "                    full_text += text.strip() + \" \"\n",
    "                else:\n",
    "                    # If PyPDF2 fails to extract text, use OCR as a fallback\n",
    "                    with fitz.open(file_path) as document:\n",
    "                        fitz_page = document.load_page(page_num)\n",
    "                        ocr_text = extract_text_with_ocr(fitz_page)\n",
    "                        full_text += ocr_text.strip() + \" \"\n",
    "    except Exception as e:\n",
    "        print(f\"Error reading PDF {file_path}: {e}\")\n",
    "    return full_text.strip()\n"
   ]
  },
  {
   "cell_type": "code",
   "execution_count": 7,
   "id": "9cc9a38b-8750-42b1-b754-19812e03c069",
   "metadata": {},
   "outputs": [],
   "source": [
    "def read_msg(file_path):\n",
    "    \"\"\"\n",
    "    Extracts text from a .msg file.\n",
    "\n",
    "    Args:\n",
    "        file_path (str): The path to the .msg file.\n",
    "\n",
    "    Returns:\n",
    "        str: The extracted text from the .msg file.\n",
    "    \"\"\"\n",
    "    try:\n",
    "        msg = extract_msg.Message(file_path)\n",
    "        return msg.body.strip()\n",
    "    except Exception as e:\n",
    "        print(f\"Error reading MSG {file_path}: {e}\")\n",
    "        return \"\""
   ]
  },
  {
   "cell_type": "code",
   "execution_count": 8,
   "id": "34d9406f-b930-44fa-ac7c-0065dac1e1f4",
   "metadata": {},
   "outputs": [],
   "source": [
    "def detect_language(text):\n",
    "    \"\"\"\n",
    "    Detects the language of the given text.\n",
    "\n",
    "    Args:\n",
    "        text (str): The text to detect the language for.\n",
    "\n",
    "    Returns:\n",
    "        str: The detected language code, or \"unknown\" if detection fails.\n",
    "    \"\"\"\n",
    "    try:\n",
    "        return detect(text)\n",
    "    except Exception:\n",
    "        return \"unknown\""
   ]
  },
  {
   "cell_type": "code",
   "execution_count": 9,
   "id": "be2aec6f-c0d3-499a-a179-427a0b22e1e9",
   "metadata": {},
   "outputs": [],
   "source": [
    "def process_files_in_folder(folder_path):\n",
    "    \"\"\"\n",
    "    Processes all files in a given folder, extracting text and language information.\n",
    "\n",
    "    Args:\n",
    "        folder_path (str): The path to the folder containing files.\n",
    "\n",
    "    Returns:\n",
    "        list: A list of dictionaries, each containing file information and extracted text.\n",
    "    \"\"\"\n",
    "    all_documents_data = []\n",
    "    for file_name in os.listdir(folder_path):\n",
    "        file_path = os.path.join(folder_path, file_name)\n",
    "        if os.path.isfile(file_path):\n",
    "            file_extension = os.path.splitext(file_path)[1].lower()\n",
    "            document_content = \"\"\n",
    "\n",
    "            if file_extension == '.pdf':\n",
    "                document_content = extract_text_from_pdf(file_path)\n",
    "            elif file_extension == '.msg':\n",
    "                document_content = read_msg(file_path)\n",
    "\n",
    "            if document_content:\n",
    "                detected_language = detect_language(document_content)\n",
    "                all_documents_data.append({\n",
    "                    'file_name': file_name,\n",
    "                    'file_type': file_extension,\n",
    "                    'language': detected_language,\n",
    "                    'content': document_content\n",
    "                })\n",
    "\n",
    "    return all_documents_data"
   ]
  },
  {
   "cell_type": "code",
   "execution_count": 10,
   "id": "d87d5af5-2657-42ff-9c55-ac5d1f1a3683",
   "metadata": {},
   "outputs": [],
   "source": [
    "def save_to_json(data, output_file):\n",
    "    \"\"\"\n",
    "    Saves data to a JSON file.\n",
    "\n",
    "    Args:\n",
    "        data (list): The data to save.\n",
    "        output_file (str): The path to the output JSON file.\n",
    "    \"\"\"\n",
    "    with open(output_file, 'w', encoding='utf-8') as f:\n",
    "        json.dump(data, f, ensure_ascii=False, indent=4)\n",
    "    print(f\"Data has been saved to {output_file}\")"
   ]
  },
  {
   "cell_type": "code",
   "execution_count": 11,
   "id": "a5581777-2fee-4a66-a06a-3cf7b7a9b23c",
   "metadata": {},
   "outputs": [
    {
     "data": {
      "text/plain": [
       "[{'file_name': '2023-08-28-Pool-SystemsGmbH＆CoKG-Tschechien-RegistrierungsbestätigungderSteuerbehörden.pdf',\n",
       "  'file_type': '.pdf',\n",
       "  'language': 'de',\n",
       "  'content': 'Finanéni tad pro Moravskoslezsky kraj V Ostravé\\nNa Jizdarné 3162/3 dne\\n\\n709 Q0 MORAVSKA OSTRAVA A PRIVOZ\\n\\nElektronicky podepsano\\n\\nUzemni pracovisté Ostrava I 11. 08. 2023\\nJureckova 940/2— . Ing. Pavla Jirsova\\n\\n700 39 MORAVSKA OSTRAVA A PRIVOZ rada\\n\\nCj.: 3403424/23/3201-00512-810298\\n\\nVyrizuje: Jirsova Pavla, Ing.\\n\\nOddéleni registraéni II\\n\\nTelefon: 596 150 282 €. dvefi: 217a/B EINGEGANGEN AM = 17 AUG. 2023\\n\\nE-mail: podatelna320l@fs.mfcr.cz\\nDafiovy subjekt\\n\\nDIC: CZ686682578\\n\\nPOOL-SYSTEMS GmbH & Co.KG\\nAm Steinbruch 3-5\\n\\n92559 WINKLARN\\n\\nSpolkova republika Némecko\\n\\nROZHODNUTI\\n0 registraci k dani z pfidané hodnoty\\n\\nShora uvedeny spravce dané Vas podle ust. § 129 odst. 1 zadkona\\né. 280/2009 Sb., dahovy fad, ve znéni pozdéjsich pfedpisd (dale jen\\n\"dafovy fad\"), ma zdkladé pfihldsky k registraci k dani z pfidané\\nhodnoty\\n\\nregistruje jako platce dané z pridané hodnoty.\\n\\nVaSe danové identifikaéni Cislo DIC pro tento Uéel je: CZ686682578.\\n\\nPodle ust. § 6c odst. 2 zdkona €. 235/2004 Sb., o dani 2z_ pridané\\nhodnoty, ve znéni pozdéjSich predpisd (dale jen “zdkon o dani z pfridané\\nhodnoty\"), jste platcem dané z pfidané hodnoty ode dne 25.05.2022.\\n\\nPouéeni\\n\\nProti tomuto rozhodnuti se mize prijemce rozhodnuti odvolat ve Lhdté\\ndo 30 dnd ode dne jeho doruéeni. Odvoladni je nepfripustné, sméfruje-li\\njenom proti odfivodnéni rozhodnuti. Odvolani se poddava u spravce dané,\\njehoz rozhodnuti je odvoladnim napadeno. Podané odvolani nema odkladny\\néinek (§ 109 dafového Fadu).\\n\\nUpozornéni\\n\\nVaSim zdahovacim obdobim je kalenddfni mésic (§ 99 zakona o dani\\nz pfidané hodnoty). Pfipadnou zménu  zdafovaciho obdobi upravuje\\nustanoveni § 99a zdkona o dani z pridané hodnoty.\\n\\nPlatci dané z pfidané hodnoty a identifikované osoby jsou v situacich\\npodle €l. 7 nafizeni Evropského parlamentu a Rady (ES) ¢. 638/2004\\nze dne 31. brezna 2004 o statistice Spolecenstvi obchodu se zbozim mezi\\n€lenskymi staty a o zruSeni nafizeni Rady (EHS) ¢. 3330/91, povinni\\npodle tohoto nafizeni a podle § 57 az § 60 zakona ¢. 242/2016 Sb., celni\\nzakon, plnit povinnosti vyplyvajici z téchto prdavnich  pfredpist\\n(preddvani vykazi pro Intrastat 0 odeslaném nebo prijatém zbozi celnimu\\nWfadu v situacich stanovenych vySe uvedenymi predpisy a narizenim vlady\\n¢€. 244/2016 Sb.). K Cj. 3403424/23/3201-00512-810298 Strana 2\\n\\nV pFipadé pridéleni EORI ¢isla pro styk s orgdny celni sprévy odligného\\nod danovéha identifikatniho isla je nutné dle § 127 odst. 1 datového\\nFadu sprévci dané formou zmény registraténich Udaj& dané EORI ¢islo\\noznamit.\\n\\nS Ucinnosti od 1.1.2016 vznika platctim dané nova povinnost padavat tzv.\\nKONTROLNI HLASENT, tj. novy druh dahového tvrzeni obsahujici vybrané\\nudaje o plnénich, které platce vykazuje ve svém datovém prizndni. (§101c\\n@nasl. zakona o dani z pfidané hodnoty). Kontrolni hlaseni, pfiznani\\nk dani z pfidané hodnoty i ozndmeni o zméné registraénich ddajd 1ze\\npodat pouze elektronicky ve formdtu a struktufe zvefejnéné sprdévcem dané\\n(§ 101a zakona o dani z pfidané hodnoty). BlizSi informace jsou uvedeny\\nna: https: //www. financnisprava.cz/cs/dane/dane/dan-2-pridane-hodnoty.\\n\\nL, S.. a Ing. Pavla Jirsova\\nue rada ‘ Google Lens\\n\\n+; Tschechisch Ja Deutsch\\n\\n* Finanzamt fiir die M\\nNa Jizdaérna 3162/3\\n\\n709 00 MORAVSKA OSTRAVA UND IMPORT\\n\\nahrisch-Schlesische Region\\n\\nAm Ostrava-\\n\\nTag\\n\\n; ; Elektroni i\\nTerrltorialer Arbeitsplatz Ostrava | Sch unterzeichnet am 11\\n\\nJuretkova 940/2 August 2023 Ing\\n700 39 MORAVSKA OSTRAVA UND LIEFERUNG Gemeinderat von Pavia\\nGj. 3403424/23/3201-00512-810298 “soa\\n\\nVerantwortlicher: Jirsova Pavla, Ing.\\nRegistrierungsabteilung N\\nTelefon; 596 150 282, Tirmummer\\n\\nE-Mail: podatelna3201 @fs.mfer.cz\\n\\n217a/B\\n\\nEIMGESANGEN AM = 77 AUG. 2023\\n\\nSteuersubjekt\\n\\nPOOL-SYSTEMS GmbH & Co.KG\\nAP Ra Dep tly\\n\\n92559 WINKLARN\\n\\nBundesrepublik Deutschland\\n\\nENTSCHEIDEN SIE\\nSICH, sich fiir die Mehrwertsteuer zu registrieren\\n\\nDer oben genannte Steververwalter gema, § 129 Abs. 1 des Gesetzes\\n2. 288/2009 Sig. Steuergesetzbuch in der jeweils giiltigen Fassung (im Folgenden ,Steuergesetzbuchi’\\n\\ngenanat), auf der Grundlage eines Antrags auf Registrierung fiir die Mehrwertsteuer\\nerte\\n\\nmeldet sich als Mehrwertsteuerzahler an.\\nIhre Steueridentifikationsnummer hierftir lautet: CZ686682578. Gemah § 6c\\n\\n_Absatz 2 des Gesetzes Nr. 235/2004 Slg. Uber die Steuer auf Zusatzsteuern\\nin der jeweils gUltigen Fassung (im Folgenden sUmsatzstavergesetz” genannt).\\n»Wert\") sind Sie ab dem 25.05.2022 Umsatzsteuerzahter. Gegen\\n\\nLektion yeleint\\n\\ndiesen Bescheid kann der Bescheidempfanger innerhalb von 30 Tagen\\nab Zustellung Berufung einlegen. Der Einspruch ist unzulassig, wenn\\n\\nnur gegen die Begriindung der Entscheidung. Bie Beschwerde wird beim Steuerverwalter eingereicht,\\ndessen Entscheidung mit der Berufung angefochten witd. Die eingelegte Beschwerde hat keine aufschiebende\\nWirkung (5 109 der Abgabenordnung). tiber\\n\\n. Beachten\\n_ lhr Steuerzeitraum ist der Kalendermonat (5 99 Steuern\\nUmsatzsteuergesetz). Ftir jede Anderung des Besteuerungszeitraums gelten\\ndie Bestimmungen des § 99a Umsatzsteuergesetz.\\n\\nFur Mehrwertsteuerzahler und identifizierte Personen gilt die Situation gemaR Artikel 7\\nder Verordnung (EG) Nr. 638/2004 des Europaischen Parlaments und des Rates vom 31.\\nMarz 2004 zur Gemeinschaftsstatistik des Warenverkehrs zwischen Mitgligdstaaten und zur |\\nAufhebung der Verordnung (EWG) Nr. 3330/91 des Rates, verpflichtet gamak dieser\\n-Verordn ung und geméafs § 57 bis 5 60 des Gesetzes Nr. 242/2016 Sig., Zollgesetz, die sich aus\\n+ diesen Rechtsvorschriften ergebenden Verpflichtungen zu erfiillen (Vorlage).\\n“1 von Meldungen fiir Intrastat iiber versandte oder empfangene Waren an das Zollamt in Situationen, ;\\n-\\' die in den oben genannten Verordnungen und der Regierungsverordnung Nr. 244/2016 . a\\nj Sig. festgelegt sind. .\\n\\n? ~\\n\\nJe\\nna An die Nr.: 3483424/23/3201 -00512-810298 Seite 2\\n\\nFir den Fall, dass fur den Kontakt mit den Zollbehdérden eine EORI-Nummer vergeben wird, die von der *\\nSteueridentifikationsnummer abweicht, ist es erforderlich, die angegebene EORI Nummer dem .\\nFinanzamt in Form einer Anderung der Registrierungsdaten entsprechend mitzuteilen § 127 Abs. 1\\n\\nAbgabenerdnung\\n\\nMit Wirkung vorn 1,1.2016 besteht fiir Steuerzahler eine neue .\\nfo Pflicht zur Abgabe eines sogenannten CONTROL REPORT, d .\\nFe Umsatzsteuergesetz). Konirollberichte, Umsatzsteuererklarungen und\\n: -¢, Mitteilungen Uber Anderungen der Registrierungsdaten\\n\\n-* kénnen nur elektronisch in der von der Steuerverwaltung\\n__ > veréffentlichten Form und Struktur jibermittelt werden (5 101a\\n‘| 7’ Umsatzstevergesetz). Weitere informationen finden Sie unter: https://\\n‘ www financnisprava.cz/cs/dane/dane/dan-z-pridane-hodnody.\\n\\nDeutsch\\n\\ngle Lens\\n=>\\n\\nh\\n\\ning. Pavia Jirsova\\n\\nISCc\\n\\nG\\n\\nTschech\\n\\n+\\n+\\n\\n+'},\n",
       " {'file_name': '2022-09-26-SteuerbehördeNiederlande-Scan2022-09-26_103629.pdf',\n",
       "  'file_type': '.pdf',\n",
       "  'language': 'nl',\n",
       "  'content': 'OS3A002\\n\\nEINGEGANGEN AM 26, SEP. 2022\\n\\npacE Belastingdienst\\nBos\\n\\nBelastingdienst, Postbus 106, 6400 AC Heerlen, Nederland\\n\\nSELLERX COMMERCE GMBH Midden- en\\nC/O DUTYPAY GMBH kleinbedrijf\\nPIRMASENSER STRASSE 1 e-commerce\\nD67655 KAISERSLAUTERN DEU Kantoor Venlo\\nBONDSREPUBLIEK DUITSLAND Postbus 106\\n6400 AC Heerlen\\nNederland\\n\\nbelastingdienst.nl\\n\\nDoorkiesnummer\\n+31555 38 53 85\\n\\nDatum\\n13 oktober 2022\\n\\nContactpersoon\\n\\nBetreft: Mededeling betalingsverzuim Unieregeling (éénloketsysteem) 1. Caelers\\n\\nOnze referentie\\n826429208\\n\\nGeachte heer/mevrouw,\\n\\nU doet btw-melding voor de Unieregeling van het éénloketsysteem (One Stop\\nShop, OSS). U hebt in dat systeem btw-melding gedaan over het tijdvak Q3 2021.\\nHet gaat daarbij om btw die u moet betalen over de levering van goederen en/of\\ndiensten in Nederland. Daarom krijgt u deze brief van de Nederlandse\\nbelastingdienst.\\n\\nU hebt de btw over dit tijdvak (gedeeltelijk) te laat betaald. Er is sprake van een\\nbetalingsverzuim. In deze brief leest u wat dit voor u betekent.\\n\\nBetalingsverzuim\\n\\nU hebt btw die u aan Nederland moet betalen (gedeeltelijk) te laat betaald. Het\\ngaat om:\\n\\n-— meldingstijdvak: Q3 2021\\n\\n-— betalingskenmerk: DE/DE287373074/Q3.2021\\n\\n- uiterste betaaldatum: 31 oktober 2021\\n\\nU hebt deze btw pas (volledig) betaald op 1 november 2021.\\n\\nWat betekent dit voor u?\\nWij ontvingen uw betaling binnen 7 dagen na afloop van de betalingstermijn.\\n\\nVolgens paragraaf 23, lid 4 van het Besluit Bestuurlijke Boeten Belastingdienst\\n(BBBB) krijgt u geen verzuimboete als wij het totale bedrag ontvangen binnen 7\\ndagen na afloop van de betalingstermijn en als over het voorafgaande tijdvak wel\\nop tijd is betaald.\\n\\nU hebt aan deze voorwaarden voldaan, daarom leg ik u in dit geval geen boete op.\\nAls u over het volgende tijdvak opnieuw te laat betaalt, leg ik de verzuimboete wel\\n\\nop. Ook als uw betaling binnen 7 dagen na afloop van de betalingstermijn binnen\\nis.\\n\\nPaginanummer 1 van 3  Hebt u vragen? Midden- en kleinbedrijf\\n\\nOp belastingdienst.nl/e-commerce vindt u meer informatie. Is uw onderneming in Kantonn Veal\\nhet buitenland gevestigd, kijk dan op belastingdienst.nl/vat-e-commerce. Of bel anmoor wee\\nmij op +31 555 38 53 85. Ik help u graag verder. Ds caper 2022\\nOnze referentie\\nHoogachtend, 826429208\\n\\nnamens.de inspecteur\\n\\n/\\n\\n. Caelers\\n\\nt\\n\\nPaginanummer 2 van 3  Subject: Notice of tate payment Union scheme (One Stop Shop) Midden- en kleinbedrijf\\ne-commerce\\n\\n; Kantoor Venlo\\nDear Sir, Madam,\\n\\nDatum\\n\\n13 oktober 2022\\nYou submit VAT returns for the Union scheme of the One Stop Shop system. In\\n\\nthat system you submitted a VAT return for the time period Q3 2021. It concerns\\nVAT you have to pay on the supply of goods and/or services in the Netherlands.\\nThat is why you receive this letter from the Tax and Customs Administration of the\\nNetherlands.\\n\\nOnze referentie\\n826429208\\n\\nYou have paid the VAT for this time period too late or partially too late. This is a\\ncase of late payment. In this letter you can read what this means for you.\\n\\nLate payment\\n\\nYou have paid the VAT owed to the Netherlands too late or partially too late. It\\nconcerns:\\n\\n- time period: Q3 2021\\n\\n—- payment reference: DE/DE287373074/Q3.2021\\n\\n- final payment date: 31 October 2021\\n\\nYou did not pay this VAT, or pay it in full, until 1 November 2021.\\n\\nHow does this affect you?\\nWe received your payment within 7 days of the payment deadline.\\n\\nAccording to Section 23(4) of the Administrative Fines Decree of the Tax and\\nCustoms Administration of the Netherlands (Besluit Bestuurlijke Boeten\\nBelastingdienst, BBBB), you will not have to pay a penalty for late payment if we\\nreceive the total amount within 7 days after the payment deadline has expired and\\nif payment for the previous time period was made on time.\\n\\nYou have fulfilled these conditions, so we will not impose a penalty for late\\npayment on you in this case.\\n\\nIf you are again late in paying for the next time period, we will impose a penalty\\nfor late payment. Even if your payment is received within 7 days after the\\npayment deadline has expired.\\n\\nDo you have any questions?\\n\\nMore information is available at belastingdienst.nl/e-commerce. If your company is\\nlocated abroad, please visit belastingdienst.nl/vat-e-commerce. Or call the\\nsignatory on +31 555 38 53 85. We will be pleased to help you.\\n\\nPaginanummer 3 van 3'},\n",
       " {'file_name': '2024-04-12-FJTradingGmbH-WGNouveaumessagedelaDirectionGénéraledesFinancesPubliques-17207401@taxhubeu.msg',\n",
       "  'file_type': '.msg',\n",
       "  'language': 'en',\n",
       "  'content': 'Sehr geehrte Damen und Herren, \\r\\n\\r\\n \\r\\n\\r\\nbitte das Postfach prüfen. \\r\\n\\r\\n \\r\\n\\r\\nVielen Dank \\r\\n\\r\\n \\r\\n\\r\\nMit freundlichen Grüßen / Kind Regards \\r\\n  \\r\\nNicole Jemetz\\r\\n\\r\\nAssistenz der Geschäftsleitung\\r\\n\\r\\n\\r\\n\\r\\n\\r\\n\\r\\n\\r\\n\\r\\nFJ Trading GmbH \\r\\nAltenstein 19\\r\\n\\r\\n94481 Grafenau \\r\\nTel.  : 08552 / 975 87 51\\r\\nFax. : 08552/975 87 56 \\r\\n\\r\\nMail: nicole.jemetz@fj-trading.de \\r\\n\\r\\n\\r\\n\\r\\nRechtsform: GmbH; HRB 8786 \\r\\nAmtsgericht: Passau; \\r\\nGeschäftsführer: Frank Jemetz \\r\\nUST-ID: DE815417546\\r\\nSteuernummer: 153/126/40624 \\r\\n\\r\\n \\r\\n\\r\\nDiese Information ist ausschließlich für die adressierte Person bestimmt und könnte vertrauliches und/oder privilegiertes Material enthalten. Wenn Sie nicht der richtige Adressat sind oder diese E-Mail irrtümlich erhalten haben, informieren Sie bitte sofort den Absender und vernichten diese Mail. Es wird nicht gestattet, diese Informationen unerlaubt zu kopieren, unbefugt weiterzugeben oder sie anderweitig zu verwenden. Vielen Dank!\\r\\n\\r\\nThis information transmitted is intended only for the person addressed to and may contain confidential and/or privileged material. If You are not the intended recipient or have received this mail in error please notify the sender immediately and destroy this e-mail. Any unauthorized copying, distribution or other use of the material in this mail is prohibited. Thank You!\\r\\n\\r\\n \\r\\n\\r\\nVon: forwarding@taxhub.eu [mailto:forwarding@taxhub.eu] \\r\\nGesendet: Freitag, 12. April 2024 09:22\\r\\nAn: jemetz@fj-trading.de; nicole.jemetz@fj-trading.de; taxhub-archivtaxhub.eu@dutypay.eu\\r\\nBetreff: Nouveau message de la Direction Générale des Finances Publiques - 17207401@taxhub.eu\\r\\n\\r\\n \\r\\n\\r\\n________________________________\\r\\n\\r\\nBitte antworten Sie nicht auf diese Email-Adresse. Dies ist eine automatisch generierte Email!\\r\\nPlease do not reply to this email address. This is an automatically generated email!\\r\\n\\r\\n________________________________\\r\\n\\r\\n\\r\\nBetreff: Neues Behördenschreiben im Ihrem Steuerpostfach für Frankreich\\r\\n\\r\\nEs ist Post in Ihrem digitalen französischen Steuerpostfach eingegangen.\\r\\n\\r\\nDie E-mail ist an acm@dutypay.eu <mailto:acm@dutypay.eu>  weiterzuleiten.\\r\\n\\r\\nDie eingegangene Post wird via automatischer E-Mail innerhalb der nächsten 48 Stunden weitergeleitet.\\r\\n\\r\\n________________________________\\r\\n\\r\\nSubject: New letter from the French tax authorities in your tax account digital inbox\\r\\n\\r\\nA letter has arrived in the digital mailbox of your tax account with the French tax authorities.\\r\\n\\r\\nPlease forward this email to acm@dutypay.eu <mailto:acm@dutypay.eu> .\\r\\n\\r\\nWe will collect your mail and forward it to you within 48 hours.\\r\\n\\r\\n________________________________\\r\\n\\r\\n\\r\\nOriginal-Nachricht von ne-pas-repondre@dgfip.finances.gouv.fr\\r\\nOriginal Message from ne-pas-repondre@dgfip.finances.gouv.fr\\r\\n\\r\\n________________________________\\r\\n\\r\\n\\r\\n\\r\\nNouveau message de la Direction Générale des Finances Publiques \\r\\n\\r\\n \\r\\n\\r\\n  \\r\\n\\r\\n  \\r\\n\\r\\nBonjour FJ TRADING GMBH,\\r\\nVous avez reçu un nouveau message de la part de la Direction générale des Finances publiques.\\r\\nVous pouvez en prendre connaissance en vous connectant à votre espace sur le site impots.gouv.fr.\\r\\nDemande n° 1176104158 : Ma demande d’accréditation d’un représentant fiscal (représentation fiscale des entreprises étrangères).\\r\\n\\r\\n\\r\\nNous vous remercions de votre confiance.\\r\\n\\r\\nLa Direction générale des Finances publiques\\r\\n\\r\\n \\r\\n\\r\\nRetrouvez la DGFIP sur Twitter (@dgfip_officiel) et sur Facebook : Direction générale des Finances publiques\\r\\n\\r\\n \\r\\n\\r\\nRecommandations \\r\\n\\r\\nPour votre sécurité, nous vous recommandons de ne jamais répondre à un courriel vous demandant vos coordonnées bancaires \\r\\n\\r\\n  \\r\\n\\r\\nimpots.gouv.fr est un site de la Direction générale des Finances publiques \\r\\n\\r\\n \\r\\n\\r\\n________________________________\\r\\n\\r\\nBei Fragen kontaktieren Sie uns bitte per Email an acm@dutypay.eu.\\r\\nIn case of questions please contact us via email to acm@dutypay.eu.'},\n",
       " {'file_name': '2021-09-22-EcomBrandsGmbH-SCN_2021_09_22_06_27_55_001.pdf',\n",
       "  'file_type': '.pdf',\n",
       "  'language': 'en',\n",
       "  'content': \"(a e2.\\nPAG SKATT ww\\n\\nFinnish Tax Administration\\nFinland Information request 1 (1)\\n\\nCCN\\n\\n.540A.L0181650644\\nPriority PP Finlande Posti Oy 916529 Posti Green Letter created on 09.09.2021\\nMailing date 13.09.2021\\n\\n00005 - 104\\n000232\\n\\n~ Ecom Brands GmbH\\nrs Rédingsmarkt 31-33\\na DE-20459 Hamburg Eas\\nm GERMANY ae Document number\\nS L0181650644\\n2\\n\\n=\\n\\né\\n\\nFurther information required for registration\\n\\nTaxpayer: Ecom Brands GmbH, Business ID 3182586-5\\n\\nThe Tax Administration has received your notification. In order to determine your\\neligibility for registration, we need the following information by 30.09.2021:\\n\\n1. The national VAT identification number that the company will use in the OSS.\\n(The VAT number indicates the country in which the taxpayer company, or its\\nintermediary, has registered and it also indicates the scheme for which it has\\nregistered.)\\n\\n2. You can also attach a certificate of the OSS registration.\\n\\nIf we do not receive the required information by 30.09.2021, your notification cannot\\nbe tried and you will not be registered according to your application.\\n\\nYou can reply to this letter in MyTax (tax.fi/mytax). The service requires\\nauthentication. If you reply on paper, please submit your answer together with the\\nenclosed cover page. Post them to the address given on the cover page.\\n\\nContact me if you have questions regarding the matter.\\n\\nEmma Korkka\\nSenior Tax Clerk\\ntel. +358 29 512 0205 (standard call rates apply)\\n\\nApplied legal norms:\\n§ 1, § 161 and § 172-173, Value Added Tax Act\\n§ 25-26, § 28 and § 31, act on tax prepayments (Ennakkoperintalaki 1118/1996)\\n\\nAppendices Instructions for replying (cover page)\\nFs os tax.fi\\nSagch: aL0050/g 11.2020\\n\\na sees 1 (1)\\n\\nCover Page\\n\\nDocument number\\n10181650644\\n\\n51518707/232/506 2/2\\n\\npe Bois\\n\\ncn,\\n\\nEnclose this page if you reply on paper\\n\\nYou can reply to the Tax Administration in MyTax (tax.fi/mytax). If you reply on paper,\\nput this page on top. The QR code above helps us with the sorting of replies and\\nspeeds up the processing. If you reply in MyTax, you do not need this cover page.\\n\\nIf you reply on paper, send your reply to:\\n\\nFinnish Tax Administration - Verohallinto\\nRequired further information\\n\\nP.O. Box 900\\n\\n00052 VERO\\n\\nWe process the replies electronically. Follow the instructions below:\\n\\n* Don't attach the papers together with staples, by binding them etc.\\n\\n* Only use the A4 paper size in your reply.\\n\\n+ Enter your Business ID, personal identity code or another corresponding ID on\\nevery page.\\n\\nIf you are responding to our enquiry by submitting a new tax return, please use\\nelectronic filing if you can (for more information, visit Tax.fi/e-File). With e-filing, you\\ndon't need this cover page.\\n\\ntax.fi\"},\n",
       " {'file_name': '2024-01-09-LeGouvernementduGrand-DuchédeLuxembourg-Scan2024-01-09_101639.pdf',\n",
       "  'file_type': '.pdf',\n",
       "  'language': 'fr',\n",
       "  'content': \"EINGEGANGEN AM 9. JAN, ZN \\nEINGEGANGEN AM 9 9. JAN, hve \\nLE GOUVERNEMENT \\nDU GRAND-DUCH g DE LUXEMBOURG \\nAdministration de l'enregistrement, \\ndes domalnes et de la TVA \\nRecette Centrale \\n308, ROUTE D'ESCH \\nL-1471 LUXEMBOURG \\nB.P. 1004 \\nL-1010 LUXEMBOURG \\nT1: 247-80782 / Fax: 2479-0400 \\nIBAN LU35 0019 5655 0668 3000 \\nSWIFT BCEELULL \\nremboursementava@en.etat.lu \\npfi.public.lu N° Matricule 2014 3200 958 \\nA rappeler dans toute correspondance. \\nDate document: 01.01.2024 \\nBureau d'imposition 10 / Luxembourg 10 \\nPROJEKTOR AG \\np. adr. DutyPay GmbH \\n1, Primasenser Straße \\nD-67655 Kaiserslautern \\nTAXE SUR LA VALEUR AJOUTEE \\nEXTRArf DE CONIPPE DU 01.01.2024 ---\\nEn date du 01.01.2024 votre compte TVA pr6sente un solde de : \\n0,00 € \\nTotal ä payer 0,00 \\nAfin d'obtenir un extrait ditail1 merci de consulter votre espace personnel sur notre site \\nDate Document: 01.01.2024 Page: 1 / 2 126f. Document: 3D4B3 1EBD9 * A153A \\nt)92752 LE GOUVERNEMENT \\nDU GRAND-DUCHe DE LUXEMBOURG \\nAdministration de l'enregistrement, \\ndes domalnes et de la TVA N° Matricule 2014 3200 958 \\nA rappeler dans toute correspondance. \\nDate Document: 01.01.2024 Page /2 R6f. Docum nt: 3D4B3 1EBD9 * A153A \\nTY:MR\"},\n",
       " {'file_name': '2023-01-16-FinanzamtÖsterreich-Scan2023-01-16_095504.pdf',\n",
       "  'file_type': '.pdf',\n",
       "  'language': 'de',\n",
       "  'content': \"Finanzamt Österreich \\n1000 Wien, Postfach 260 \\nTel.: 050 233 233 \\nZurück an: 1000 Wien Postfach 254 - 68 \\nIQ Frankenschaum GmbH \\nz.H. DutyPay GmbH \\nPirmasenser Straße 1 \\n67655 KAISERSLAUTERN \\nDEUTSCHLAND \\nErsuchen um Ergänzung EINGEGANGEN AM 1 6. JAN. 2023 \\nDatenschutzerklärung auf brntgv.atidatenschutz oder \\nauf Papier in allen Finanz- und Zolldienststellen \\n9. Jänner 2023 \\nSteuernummer \\n68 557/1002 \\nTeam \\nBV31 \\nBei Rückfragen wenden Sie sich \\nbitte an (Name/Telefonnummer): \\nAnders Ingrid \\n050 233 233-538403 \\n0395924 - 139- 1/2 \\n- \\nbetreffend \\nAntrag auf AL \\nVOM eingebracht am \\nSehr geehrte Steuerzahlerin! Sehr geehrter Steuerzahler! \\nBitte beantworten Sie die nachstehenden Fragen innerhalb der angeführten Frist und legen Sie zum Nach-\\nweis der Richtigkeit Ihrer Angaben die erforderlichen Unterlagen bei. \\nÜbermitteln Sie nur Kopien und keine Originaldokumente! Bitte führen Sie bei allen schriftlichen Eingaben \\nan das Finanzamt die Steuernummer an oder verwenden Sie für das Antwortschreiben die Rückseite \\ndieses Schreibens. \\nFrist zur Beantwortung bis \\nzum 38:84.2023 \\nMit freundlichen Grüßen \\nIhr Finanzamt \\nErgänzungspunkte: Achtung! Falls Sie aus triftigen Gründen den \\nfestgesetzten Termin nicht einhalten können, \\nersuchen wir Sie um rechtzeitige Verständigung! \\nIhrem Antrag auf Aktenlöschung kann noch nicht entsprochen werden, da für das \\nerste Quartal 2022 noch Umsätze gemeldet wurden. Die Löschung kann erst nach \\nVeranlagung 2022 erfolgen. Bitte übermitteln sie noch die Umsatzsteuerjahres-\\nerklärung für 2022. \\nKStG Körperschaftsteuer -/EStG Einkommensteuer -/UStG UmsatzsteuerGesetz/WerbeAbg Werbeabgabe/BAO Bundesabgabenordnung \\nGedruckt im Bundesrechenzentrum auf chlorfrei gebleichtem Papier F685571002 Formular RZ 06-UBRZ CM \\nAUS SEITE 1 N \\nM \\nM N IY1C1C1 ,,A 1'2C1 _ O/'\"},\n",
       " {'file_name': '2024-04-12-IVYOAKGmbH-20240327145254513.pdf',\n",
       "  'file_type': '.pdf',\n",
       "  'language': 'sv',\n",
       "  'content': 'LOOOLLOPSry LOSPLevcOLl - errOco\\n\\nET\\n\\n30448:14484\\n\\n20147_skv.afp\\n\\n7.ppg_20240309__:\\n\\nprod_2008\\n\\nMoAG_A_s_c5_del_j\\n\\nET\\n\\nsv 00 03\\n\\n06\\n\\nSKV 4760\\n\\nPostadress\\n\\nG Meddelande 12)\\nHM S katteverket Datum Person-/organisationsnummer\\n\\n2024-03-08 502082-2119\\n205 30 MALMO\\nHandiaggare i detta arende\\nMarko Cacanovic IVY & OAK GMBH\\n010-5739740 MONBIJOUPLATZ 4\\nmarko.cacanovic@skatteverket.se 10178 BERLIN\\n\\nTYSRKLAND\\n\\nNamn: IVY & OAK GMBH\\nPerson-/organisationsnr: 502082-2119\\nArendet galler: Mervardesskatt\\nRedovisningsperiod/-er: OKT - DEC 23\\nDeklarationsdag/-ar: 2024-02-12\\n\\nThe Swedish Tax Agency is communicating in Swedish, which is our official\\nlanguage. Consequently, the Swedish text takes precedence over the English\\ntranslation below.\\n\\nEr skattedeklaration fd6ér mervadrdesskatt (moms) har inte kommit in\\n\\nSkatteverket har inte fatt in momsdeklarationen fér ovan angiven\\nredovisningsperiod. Vi ber er darf6r att lamna in deklarationen snarast.\\nMervardesskattedeklarationer att skriva ut finns har: https://skatteverket,\\nse/servicelankar/otherlanguages/inenglishengelska/businessandemployers/\\nstartingandrunningaswedishbusiness/declaringtaxesbusiness/\\nvat.4.12815e4f14a62bc048f52be. html\\n\\nVanligen kontrollera om momsdeklarationer saknas aven f6r tidigare perioder\\noch ldamna in dem snarast.\\n\\nMomsdeklarationer ska lamnas sa lange den momspliktiga verksamheten inte har\\navslutats. Det betyder att ni ska lamna en deklaration, Aven om ni under\\nperioden inte har haft nagon verksamhet och inte har nadgon moms att\\ndeklarera.\\n\\nOm man inte har nagon mervardesskatt (moms) att deklarera f6r perioden\\nredovisar ni detta genom att fylla i 0 kr som \"Moms att betala eller fa\\ntillbaka\", falt 49.\\n\\nOm ni inte lamnar in en momsdeklaration kan Skatteverket faststdalla moms med\\nhjalp av andra tillgdangliga uppgifter. Det kallas skdonsbeskattning. Vid\\nskénsbeskattning tar Skatteverket normalt ut skattetilldagg med 20 procent av\\nden skatt som faststalls.\\n\\nVaxel Webbplats: www.skatteverket.se\\n0771-567567\\n\\n205 30 MALMO'},\n",
       " {'file_name': '2024-02-01-AgenciaTributaria-BehördeschreibenPlastiksteuerRegistrierungspflichtGloryfeeelGmbH.pdf',\n",
       "  'file_type': '.pdf',\n",
       "  'language': 'es',\n",
       "  'content': 'Página 1\\nDepartamento de Aduanas e II.EE.\\nN.I.F: N2764223J      Referencia: DED579600001968944\\nDEPARTAMENTO DE ADUANAS\\nAV LLANO CASTELLANO, 17\\n28034 MADRID (MADRID)\\nTel. 000000000\\nASUNTO: IMPUESTO ESPECIAL SOBRE LOS ENVASES DE \\nPLÁSTICO NO REUTILIZABLES\\nIDENTIFICACIÓN\\nNIF: N2764223J\\nDENOMINACIÓN: GLORYFEEL GMBH\\nCOMUNICACIÓN\\nEl 1 de enero de 2023 entró en vigor el Impuesto Especial sobre los Envases de \\nPlástico no Reutilizables. Se recuerda que son contribuyentes de este impuesto \\nquienes realicen cualquiera de las siguientes actividades:\\na) La fabricación, importación o adquisición intracomunitaria de envases de \\nplástico no reutilizables o de productos de plástico semielaborados destinados \\na su obtención.\\nb) La fabricación, importación o adquisición intracomunitaria de productos de \\nplástico destinados al cierre, comercialización o presentación de envases no \\nreutilizables.\\nc)La importación o adquisición intracomunitaria de cualquier tipo de \\nmercancías contenidas en envases de plástico no reutilizables. Es objeto \\nde este impuesto el plástico no reciclado contenido en el envase primario, \\nembalaje secundario y embalaje terciario.\\nEn la página web de la Agencia Tributaria de Administración Tributaria dispone de una \\ninformación completa y detallada. Además, encontrará un enlace con el servicio de \\nAsistencia Digital (ADI) al que puede dirigirse si tiene dudas y desea consultarlas a \\ntravés del servicio de llamada telefónica directa o mediante la cita previa telefónica. La \\nruta es: Nº de Remesa: 00033120018\\nNº Comunicación: 2356671401059\\nGLORYFEEL GMBH\\nApp AEAT\\nDocumento firmado electrónicamente (Ley 40/2015 Art. 43). Autenticidad verificable mediante  Código Seguro Verificación U62RPT3R2DJWDW4M  en https://sede.agenciatributaria.gob.es Página 2\\nDepartamento de Aduanas e II.EE.\\nN.I.F: N2764223J      Referencia: DED579600001968944\\nhttps://sede.agenciatributaria.gob.es/Sede/impuestos-especiales-\\nmedioambientales/impuesto-especial-sobre-envases-plastico-reutilizables.html\\nDocumento firmado electrónicamente (Ley 40/2015) por la Agencia Estatal de \\nAdministración Tributaria,con fecha 08/11/2023, Autenticidad verificable mediante \\nCódigo Seguro Verificación U62RPT3R2DJWDW4M  en \\nhttps://sede.agenciatributaria.gob.es.'},\n",
       " {'file_name': '2023-10-16-ArteDhioGmbH-SchreibenFinanzamtPolen_919.pdf',\n",
       "  'file_type': '.pdf',\n",
       "  'language': 'pl',\n",
       "  'content': 'NACZELNIK\\nDRUGIEGO URZEDU SKARBOWEGO\\nWARSZAWA - SRODMIESCIE\\n\\nUNP: 1436-23-145823 Warszawa, 5 pazdziernika 2023 roku\\nSprawa: Wezwanie o korekte deklaracji\\n\\nZnak sprawy: 1436-SKA-4.4033. 12899 .2023. 2. HLHM\\nKontakt: Marlena Kondratowicz- Starszy Referent”\\ntel. 225113565\\ne-mail: marlena.kondratowicz@mf.gov.pl\\nARTEDHIO GMBH\\nERNST-ABBE-STRASSE 14/D\\n97877 WERTHEIM\\nNIEMCY\\nNIP : 5263293350\\n\\nWezwanie\\ndo ziozenia korekty\\n\\nSzanowni Panstwo,\\nW deklaracji JPK_V7M za okres 02/2023 stwierdzono nastepujace biedy:\\ne btednie wykazano poz. 48 ,,faczna wysokosé podatku naliczonego do odliczenia’’\\n\\nKorekta deklaracji bedzie miata wptyw na kolejne okresy. Prosimy o skorygowanie okresu\\n02/2023 i kolejne okresy .\\n\\nJak ziozyc dokument\\nDokumenty mozna przestac:\\n\\n* za pomoca bezptatnych aplikacji e-mikrofirma WEB lub Klient JPK_WEB lub Formularz\\nuproszczony — znajduja sie one na stronie: https://www.podatki.gov.pl/jednolity-plik-\\nkontrolny/jpk-vat-z-deklaracja/bezplatne-narzedzia/\\n\\n¢ bezposrednio z systemow finansowo-ksiegowych lub komercyjnych aplikacji online.\\n\\nW tej sprawie w imieniu Podatnika/Spotki moze dziata¢ petnomocnik.\\nWszelkie watpliwosci dotyczace tego wezwania mozna wyjasni¢ z osoba, ktora prowadzi\\nsprawe.\\n\\nPouczenie\\nJezeli Podatnik/Spotka nie zastosuje sie do tego wezwania, mozemy:\\ne natozy¢ kare porzadkowa do 3300 zt,\\n\\n* natozyc kare grzywny.\\nPoodstawe prawné\\n1. (sktadane miesiecznie) Art. 99 ust. 1 ustawy z dnia 11 marca 2004 r. 0 podatku\\n\\n1/2 od towarow i ustug (Dz. U. z 2022 r. poz. 931 ze zm,):\\nPodatnicy, o ktorych mowa w art. 15, sq obowigzani sktadaé w urzedzie skarbowym deklaracje\\npodatkowe za okresy miesieczne w terminie do 25. dnia miesigca nastepujacego po kazdym\\nkolejnym miesigcu, z zastrzezeniem ust. 2-10, art. 130c i art. 133.\\n2. (sktadane kwartalnie) Art. 99 ust. 2 ustawy z dnia 11 marca 2004 r. 0 podatku\\nod towar6w i ustug:\\nMali podatnicy, ktorzy wybrali metode kasowa, sktadaja w urzedzie skarbowym deklaracje\\npodatkowe za okresy kwartalne w terminie do 25. dnia miesiaca nastepujgcego po kazdym\\nkolejnym kwartale.\\n3. Art. 99 ust. 11¢c ustawy z dnia 11 marca 2004 r. 0 podatku od towaréw i ustug:\\nDeklaracje podatkowe, o ktorych mowa w ust. 1-3, sq sktadane zgodnie z wzorem dokumentu\\nelektronicznego w rozumieniu ustawy z dnia 17 lutego 2005 r. 0 informatyzacji dziatalnoéci\\npodmiotéw realizujacych zadania publiczne (Dz. U. z 2019 r. poz. 700, 730 i 848), ktéry obejmuje\\ndeklaracje i ewidencje, o ktérej mowa w art. 109 ust. 3. Dokument elektroniczny, o ktorym\\nmowa w zdaniu pierwszym, jest przesytany w sposdb okreslony w przepisach wydanych\\nna podstawie art. 193a § 3 Ordynacji podatkowgj i zgodnie z wyMmaganiami okreslonymi w tych\\nprzepisach.\\n4. Art. 155 § 1, art. 272 ustawy z dnia 29 sierpnia 1997 r. Ordynacja podatkowa (Dz. U. 2 2022r. poz.\\n2651 ze zm.).\\n5. Art. 262 § 1 ustawy z dnia 29 sierpnia 1997 r. Ordynacja podatkowa.\\n\\n6. Art. 56 § 4, art. 61a, art. 80 § 11 § 4 ustawy z dnia 10 wrzegnia 1999 r. Kodeks karny Skarbowy\\n\\n(Dz. U. z 2021 r. Poz. 408)\\n\\n2 up. Naezelnika Urzedu Stich sou,\\nStarszy Referer’\\n\\n1, me. ee Ao ‘ ra\\n1.Adresat Marlena Kondratc.,.\\n\\n2.a/a\\nZapraszamy do kontaktu\\nChcesz zatatwié sprawe\\n\\nKoresponcencje olrzymuje:\\n\\nInfolinia Krajowej Informacji Skarbowej\\n\\nw urzedzie skarbowym — uméw spotkanie poniedziatek-piatek, 7.00-18.00\\na elektronicznie — na stronie : ° ~ 22 330 03 30\\nSievle. podetitheoy pal : (z telefonow komorkowych)\\nbo telefonicznie — pod numerem 802055 055\\ntelefonu 22 511 3501 (z telefonow stacjonarnych)\\nI bezposrednio — przyjdé do > | +48 22 33003 30\\npunktu umawiania wizyt w urzedzie (z zagranicy)\\nInformacje dotyczace podatkow znajdziesz na Strona internetowa Krajowej Informacji\\nvow podath: ev pl Skarbowej wveve ke\\n\\nUrzad Skarbowy czynny jest: w poniedziatki w godz. 8.00-18.00, od wtorku do pigtku w godz. 8.00-16.00.\\nDrugi Urzad Skarbowy Warszawa-Srddmieécie w Warszawie, ul. Jagiellonska, 03-719 Warszawa.\\n\\nInformacja o przetwarzaniu danych osobowych\\n\\nOgéing klauzule informacyjna, ktéra dotyczy przetwarzania danych osobowych znajdqa Panstwo na stronie\\nBiuletynu Informacji Publicznej tipo Li deer ehh haves. w zaktadce Organizacja — Ochrona Danych\\nOsobowych oraz na tablicach informacyjnych w siedzibie organu: ul. Jagiellonska 15 , 03-719 Warszawa\\n\\n2/2'},\n",
       " {'file_name': '2024-07-19-BundeszentralamtfürSteuern-DE_DE324003056_Q22024_Uebertragungsprotokoll_Steuererklaerung_fuer_die_OSS_EU-Regelung.pdf',\n",
       "  'file_type': '.pdf',\n",
       "  'language': 'de',\n",
       "  'content': 'Transferticket: ep2010xcrerevp057ii89ir9cr3qadw8 Seite 1 von 1\\nEingang auf Server: 19.07.2024, 08:44:04\\nTransferticket: ep2010xcrerevp057ii89ir9cr3qadw8\\nErstellungsdatum: 19.07.2024Datenübermittler: Bremer Michael\\nSteuererklärung für die OSS EU-Regelung - für \\nBesteuerungszeiträume ab 3. Quartal 2021\\nIdentifikationsnummer\\nDeutsche USt-IdNr. ohne Länderkennzeichen DE 324003056\\nIdentifizierungsinformation zur Steuererklärung\\nJahr 2024\\nQuartal 2. Quartal\\nErklärung der unter der Sonderregelung erbrachten Umsätze\\nSteuererklärungsoption Im angegebenen Besteuerungszeitraum wurden in der OSS EU-Regelung (vormals Mini-One-Stop-\\nShop) keine steuerpflichtigen Umsätze erbracht und ich habe auch keine Berichtigungen für \\nfrühere oder spätere Besteuerungszeiträume zu erklären (Nullerklärung).\\nUmsätze, Berichtigungen und daraus resultierende Steuerbeträge\\nIch habe vom Ergebnis der Steuererklärung Kenntnis genommen.'},\n",
       " {'file_name': '2023-12-20-FinančnaupravaRepublikeSlovenije-EDS_397850101_001.pdf',\n",
       "  'file_type': '.pdf',\n",
       "  'language': 'sl',\n",
       "  'content': '3842-17376/2023-7DAVČ NA TAJNOST \\n  1 / 3 DAVČ NA TAJNOST REPUBLIKA SLOVENIJA\\nMINISTRSTVO ZA FINANCE\\nFINANČNA UPRAVA REPUBLIKE SLOVENIJE\\nFinančni urad Nova Gorica\\nUlica Gradnikove brigade 2, P.P. 45, 5001 Nova Gorica T: 08 200 1002\\nE: ng.fu@gov.si\\nwww.fu.gov.si\\nŠtevilka:\\nDatum:DT3842-17376/2023-7\\n04. 12. 2023\\nFURS588 U.p:\\nFinanč na uprava Republike Slovenije izdaja na podlagi 70. člena Zakona o davčnem postopku – \\nZDavP-2 (Uradni list RS, št. 13/11 – uradno prečiščeno besedilo, 32/12, 94/12, 101/13 – \\nZDavNepr, 111/13, 22/14 – odl. US, 25/14 – ZFU, 40/14 – ZIN-B, 90/14, 91/15, 63/16, 69/17, \\n13/18 – ZJF-H, 36/19, 66/19, 145/20 – odl. US, 203/20 – ZIUPOPDVE, 39/22 – ZFU-A, 52/22 – \\nodl. US, 87/22 – odl. US, 163/22 in 109/23 – odl. US), na vlogo davčnega zavezanca POOL - \\nSYSTEMS GMBH & CO. KG, AM STEINBRUCH 3-5, 92559 WINKLARN, Nemč ija, davčna \\nštevilka 25693697, v zadevi izdaje identifikacijske številke za davek na dodano vrednost (DDV), \\nnaslednjo  \\n  \\n  \\n  \\nODLOČ BO \\n  \\n1. Zahtevek davčnega zavezanca POOL - SYSTEMS GMBH & CO. KG, AM STEINBRUCH \\n3-5, 92559 WINKLARN, Nemč ija za izdajo identifikacijske številke za DDV  z dne 11. 09. \\n2023, se zavrne. \\n  \\n2. Davč nega zavezanca bremenijo stroški, ki jih ima zaradi davčnega postopka. Davč nemu \\norganu posebni stroš ki niso nastali. \\n  \\n  \\nO b r a z l o ž  i t e v \\n  \\nDavč ni zavezanec POOL - SYSTEMS GMBH & CO. KG, je dne 11. 09. 2023  vložil pri davčnem \\norganu zahtevek za izdajo identifikacijske š tevilke za DDV.  \\n  \\nV skladu s 5. členom Zakona o davku na dodano vrednost – ZDDV-1 (Uradni list RS, št. 13/11 – \\nuradno prečiščeno besedilo, 18/11, 78/11, 38/12, 83/12, 86/14, 90/15, 77/18, 59/19, 72/19, \\n196/21 – ZDOsk, 3/22, 29/22 – ZUOPDCE in 40/23 - ZDavPR-B) je davčni zavezanec vsaka \\noseba, ki kjerkoli neodvisno opravlja katerokoli ekonomsko dejavnost, ne glede na namen ali \\nrezultat opravljanja dejavnosti. \\n  \\nDoloč ba prvega odstavka 129. člena Pravilnika o izvajanju Zakona o davku na dodano vrednost \\n(Uradni list RS, št. 141/06, 52/07, 120/07, 21/08, 123/08, 105/09, 27/10, 104/10, 110/10, 82/11, \\n106/11, 108/11, 102/12, 54/13, 85/14, 95/14, 39/16, 45/16, 86/16, 50/17, 84/18, 77/19, 58/21, \\n205/21, 16/22, 82/22 in 17/23) določ a, da se lahko pravna ali fizična oseba identificira za \\nnamene DDV že s prvimi, navzven vidnimi aktivnostmi, ki so usmerjene na opravljanje \\ndejanosti. Kot primeri teh aktivnosti so navedena pripravljalna dela, prve nabave blaga, nakup \\nopreme, itd. Isti člen primeroma našteva tudi dokazila, s katerimi lahko zavezanec dokaž e, da \\nnamerava opravljati dejavnost: pogodbe ali predpogodbe, poslovni načrt, listine o nabavah za \\nnamene opravljanja dejavnosti. DAVČ NA TAJNOST \\n  2 / 3 DAVČ NA TAJNOST   \\nV skladu s 129. členom pravilnika mora davčni zavezanec s sedež em v Sloveniji vložiti zahtevek \\nza izdajo identifikacijske številke za DDV na obrazcu DDV-P2, davčni zavezanec s sedež em v \\ndrugi državi vloži zahtevek na obrazcu DDV-P3. Davč ni zavezanec mora v skladu s petim \\nodstavkom 78. č lena ZDDV-1 predlož iti obrazec v elektronski obliki preko sistema eDavki. \\n  \\nNa podlagi drugega odstavka 140. člena Zakona o sploš nem upravnem postopku – ZUP (Uradni \\nlist RS, št. 24/06 – uradno prečiščeno besedilo, 105/06 – ZUS-1, 126/07, 65/08, 8/10, 82/13, \\n175/20 – ZIUOPDVE in 3/22 – ZDeb) mora stranka za svoje navedbe predlagati dokaze in jih, \\nče je mogoč e, predlož iti oziroma če tega ne stori, zahteva to od nje uradna oseba, ki vodi \\npostopek. V tretjem odstavku 140. člena ZUP je določ eno, da če stranka v določ enem roku ne \\npredlož i dokazov, organ samo zaradi tega ne sme zavreč i zahtevka, temveč  mora postopek \\nnadaljevati. \\n \\nDavč ni zavezanec POOL - SYSTEMS GMBH & CO. KG, DŠ 25693697, je vložil zahtevek DDV-\\nP3 tujci. K zahtevku je priložil dokumente v tujem jeziku. \\n  \\nDavč ni organ je preveril podatke iz uradnih evidenc in preuč il dokumentacijo, iz katere izhaja, da \\nje bila družba ustanovljena dne 20.9.2017, kot glavno dejavnosti ima registrirano dejavnost šifre \\nSKD 43.290  - Drugo inštaliranje pri gradnjah.  \\n  \\nPri pregledu zahtevka za izdajo identifikacijske številke za DDV je davčni organ ugotovil, da na \\npodlagi predloženih dokazil in pojasnil, vlogi ni mogoč e ugoditi, zato je davčnemu zavezancu \\nposlal poziv za predložitev manjkajoč ih podatkov št. DT 3842-17376/2023-3 z dne 12.09.2023, \\nv katerem mu je naložil, da predloži potrebno dokumentacijo za dodelitev identifikacije za \\nnamene DDV, in sicer naj:  \\n- se opredeli, do identifikacije, saj iz uradnih evidenc davčnega organa izhaja, da je \\nzavezanec že vključ en v OSS sistem v Nemč iji ter naj navede zakaj se želi identificirati za \\nnamene DDV v Sloveniji in priloži dokazila/izjavo v slovenskem jeziku. \\n  \\nPoziv je bil davčnemu zavezancu vročen dne 27.9.2023. Rok za predložitev zahtevanih dokazil \\nje, skladno s 101. č lenom ZUP,  potekel dne  5.10.2023. \\n  \\nZavezanec se je na poziv odzval in dne 5.10.2023 priložil izjavo v nemškem jeziku ter \\nslovenskem jeziku, iz katere davčni organ ni uspel razbrati zakaj se želi identificirati v Sloveniji \\nter če je zavezanec že registriran v OSS sistemu v Nemč iji.  \\n  \\nPri pregledu zahtevka za izdajo identifikacijske številke za DDV je davčni organ ugotovil, da na \\npodlagi predloženih dokazil in pojasnil, vlogi ni mogoč e ugoditi, zato je davčnemu zavezancu \\nponovno poslal poziv za predložitev manjkajoč ih podatkov št. DT 3842-17376/2023-4 z dne \\n13.10.2023, v katerem mu je naložil, da predloži potrebno dokumentacijo za dodelitev \\nidentifikacije za namene DDV, in sicer naj:  \\n- predloži nemško odloč bo o vstopu v OSS sistem, \\n- se jasno opredeli, da se želi identificirati za DDV v Sloveniji (v slovenskem jeziku). \\n  \\nPoziv je bil davčnemu zavezancu vročen dne 28.10.2023. Rok za predložitev zahtevanih dokazil \\nje, skladno s 101. č lenom ZUP,  potekel dne  6.11.2023. \\n \\nDavč ni zavezanec se na prejeti poziv ni odzval in ni predložil v pozivu zahtevanih dokazil v roku, \\nniti jih ni predložil do izdaje te odloč be.  \\n  \\nZavezanec je na podlagi prvega odstavka 76. člena ZDavP-2 dolžan za svoje trditve v davčnem \\npostopku predložiti dokaze, na podlagi 77. člena istega zakona pa je zavezanec dolžan \\ndokazovati svoje trditve v davčnem postopku praviloma s pisno dokumentacijo ter poslovnimi \\nknjigami in evidencami, ki jih vodi v skladu s tem zakonom ali zakonom o obdavč enju. Iz zgoraj \\nnavedenega predloženega dopisa zavezanca, davčni organ ugotavlja, da le ta ne predstavlja \\nustreznega dokazila s katerimi bi zavezanec izkazal namero opravljanja obdavč ljive dejavnosti v \\nSloveniji, zaradi česar bi bil upravič en do vstopa v sistem DDV. Davč ni organ na tem mestu tudi \\npojasnjuje, da nesodelovanje zavezanca z davčnim organom lahko predstavlja tudi tveganje, da \\nzavezanec davč nemu organu kaj prikriva. DAVČ NA TAJNOST \\n  3 / 3 DAVČ NA TAJNOST Iz priloženih listin in ugotovitev davčnega organa ni razvidno, da bo zavezanec opravljal \\nobdavč ljivi promet na območ ju Slovenije. Zavezanec je sicer kot dokazila predložil zgoraj \\nnavedeni dopis, vendar je davčni organ v skladu z 10. členom Zakona o splošnem upravnem \\npostopku - ZUP (Ur.l. RS, št. 24/06 - UPB2, 105-06 - ZUS-1, 126/07, 65/08, 8/10 in 82/13) \\npresodil, da le-ta ni zadosten, ker ne izkazuje resnič nega namena opravljanja gospodarske \\ndejavnosti in doseganja obdavč ljivega prometa na območ ju Slovenije.  \\n  \\nS tem je odloč ba utemeljena. \\n \\nNa podlagi razpolož ljive dokumentacije in vseh ugotovljenih dejstev davčni organ ugotavlja, da \\ndavčni zavezanec ni dokazal opravljanja dejavnosti v smislu 5. člena ZDDV-1, zato se zahtevek \\nza izdajo identifikacijske š tevilke za DDV zavrne. \\n \\nV skladu s petim odstavkom 213. člena Zakona o sploš nem upravnem postopku  - ZUP (Uradni \\nlist RS, št. 24/06 – uradno prečiščeno besedilo, 105/06 – ZUS-1, 126/07, 65/08, 8/10, 82/13, \\n175/20 – ZIUOPDVE in 3/22 – ZDeb) mora organ v izreku odloč iti tudi o tem, ali so nastali \\nstroški postopka. Ker se je postopek začel na zahtevo davčnega zavezanca, ta v skladu s prvim \\nodstavkom 113. člena ZUP trpi stroške, ki so mu nastali zaradi davčnega postopka. Davč nemu \\norganu stroš ki postopka niso nastali. \\n \\nČe se odloč ba vroča v papirni obliki, se glede na določ bo 85. člena ZDavP-2 se šteje, da je \\nvročitev opravljena 15. dan od dneva odpreme. Datum odpreme je odtisnjen na kuverti. \\n  \\n POUK O PRAVNEM SREDSTVU:  Zoper ta upravni akt je dovoljena pritožba na Ministrstvo za \\nfinance v Ljubljani, v 15 dneh od vročitve tega upravnega akta. Pritožba se lahko vloži pisno ali \\nustno na zapisnik pri Finanč ni upravi Republike Slovenije, Finanč ni urad Nova Gorica, Ulica \\nGradnikove brigade 2, 5001 Nova Gorica.  \\n  \\nPostopek vodil/-a:\\nNežika Humar\\nfinanč ni kontrolor svetovalec IIIJurko Bač ar \\ndirektor\\nVročiti:\\n- POOL - SYSTEMS GMBH & CO. KG, AM STEINBRUCH 3-5, 92559 WINKLARN \\nNemč ija - osebno elektronsko'},\n",
       " {'file_name': '2023-09-12-KPFamilyInternationalGmbH-SchreibenitalBehörden060923.pdf',\n",
       "  'file_type': '.pdf',\n",
       "  'language': 'it',\n",
       "  'content': 'Centro Operativo Pescara\\nArea Gestione e Controlli dei\\nContribuenti Non Residenti\\n\\nPescara, 6 b}° 9)202.4\\n\\nKP FAMILY INTERNATIONAL GMBH\\nEINSTEINRING 1-7,\\n\\n85609 ASCHHEIM\\n\\nGERMANIA\\n\\nRif: Comunicazione n. QOOF153420A4F1/01\\n\\nGentile Contribuente,\\nogni anno |’Agenzia delle Entrate esegue dei controlli sulle dichiarazioni fiscali presentate per verificare che i\\ndati in esse contenuti siano corretti e che i versamenti siano stati effettuati esattamente e nei termini previsti.\\n\\nLe comunichiamo, quindi, che secondo i nostri controlli la Sua dichiarazione modello IVA 2020, relativa\\nal periodo d’imposta 2019, presenta gli errori che sono evidenziati nelle pagine che seguono.\\n\\nPuo regolarizzare la Sua posizione versando la somma di € 734,25 entro 30 giorni dal ricevimento di\\nquesta comunicazione. In questo caso, la sanzione ordinariamente prevista nei casi di omesso o tardivo\\nversamento di imposte ¢ ridotta ai sensi dell’art. 1, comma 153, della legge n. 197 del 2022 (3% delle imposte\\nnon versate o versate in ritardo). Per effettuare i] versamento puo utilizzare il modello di pagamento F24 gia\\ncompilato che trova in allegato. L’importo ¢ comprensivo della sanzione ridotta e degli interessi previsti.\\n\\nSe intende effettuare i] versamento con bonifico internazionale, gli estremi da utilizzare sono i seguenti:\\nIntestatario: BANCA D\\'ITALIA - Tesoreria centrale dello Stato - Beneficiario: AGENZIA DELLE\\nENTRATE - Codice Bic/Swft: BITA IT RR ENT - Codice IBAN: IT64 W010 0003 2453 4800 8120 301.\\n\\nNella causale del versamento ¢ indispensabile riportare esattamente la seguente stringa di formato\\nnumerico contenente il numero di partita [VA italiana, il codice tributo e l’anno di riferimento, separati da un\\npunto (.): 00182909994.9001.2019\\n\\nCopia della quietanza di pagamento deve essere inviata a mezzo posta elettronica agli indirizzi email\\nindicati nella presente comunicazione.\\n\\nPuo usufruire della sanzione ridotta anche se decide di pagare a rate, versando la prima entro lo stesso\\ntermine di 30 giorni. All’interno della pagina Avvertenze, alla voce Modalita e termini di versamento, trova le\\nindicazioni per il pagamento rateale. Se ritiene che alcuni dati o elementi non siano stati considerati o valutati\\n\\ncorrettamente, sempre entro 30 giorni, puo fornire i chiarimenti necessari e chiedere la rideterminazione delle\\nsomme dovute, contattando il Centro Operativo di Pescara ai seguenti recapiti:\\ne per telefono al numero: +39 085 577 2444;\\n\\n* per posta elettronica: marina.morgione@agenziaentrate.it; cop.pescara.ivanr@agenziaentrate. it;\\n\\nInfine, Le ricordiamo di conservare tutti i documenti relativi alla dichiarazione fino alla scadenza del\\ntermine dell’attivita di accertamento entro il quale l’Amministrazione finanziaria potrebbe eseguire ulteriori e\\npil. approfonditi controlli per verificare la Sua posizione fiscale.\\n\\nDistinti saluti\\n\\nI] Direttorestd inferim del COP\\n\\nMOR.366/2019\\n\\nAgenzia delle Entrate - Centro Operativo di Pescara - Area Gestione e Controlli dei Contriouenti Non Residenti\\nVia Rio Sparto, 21 - 65129 Pescara - PEC cop.pescara@pce.agenziaentrate.it AVVERTENZE\\n\\nCOS’E QUESTA COMUNICAZIONE\\n\\nQuesta comunicazione informa il Contribuente degli esiti del controllo eseguito sulla Sua dichiarazione ed é inviata per\\nconsentirgli di regolarizzare la propria posizione (art. 36-bis del D.P.R. n. 600 del 1973, art. 54-bis del D.P.R. n. 633 del\\n1972).\\n\\nSi tratta di un atto non impugnabile, per cui non é possibile presentare ricorso (art. 19 del D.Lgs. n. 546 del 1992).\\n\\nCOME FAR CORREGGERE EVENTUALI ERRORI\\n\\nSe si ritiene che il risultato del controllo non sia corretto, é possibile chiederne il riesame contattando i] competente\\nufficio dell’ Agenzia delle Entrate ai recapiti indicati nella prima pagina di questa comunicazione.\\n\\nMODALITA E TERMINI DI VERSAMENTO\\n\\nPagamento in unica soluzione\\n\\nLe somme dovute devono essere versate entro 30 giorni dal ricevimento della comunicazione. 1] versamento pud\\nessere effettuato presentando l’allegato modello di pagamento F24 a un qualsiasi sportello bancario, postale o di un agente\\ndella riscossione, nonché tramite modalita telematiche, utilizzando i servizi per la predisposizione del modello F24.\\n\\nPagamento rateale\\nIn alternativa al versamento in unica soluzione, le somme dovute possono essere pagate in rate trimestrali di pari importo,\\n\\nin un numero massimo di 20 rate trimestrali (art. 3-bis del D.Lgs. n. 462 del 1997).\\n\\nPer usufruire del pagamento rateale & sempre necessario effettuare il versamento della prima rata entro 30 giorni dal\\nricevimento della comunicazione. Le rate diverse dalla prima devono essere versate entro ultimo giorno di ciascun\\ntrimestre successivo. Su tali rate sono dovuti gli interessi al tasso ridotto del 3,5% annuo (art. 6, comma 1, del d.m. 21\\nmaggio 2009), calcolati dal primo giorno del secondo mese successivo a quello in cui € stata elaborata la comunicazione\\n(la data di elaborazione é riportata in calce alla prima pagina della comunicazione) e fino al giorno di pagamento della rata.\\nSul sito www.agenziaentrate.gov.it é disponibile un servizio, accessibile senza necessita di autenticarsi, che permette\\ndi calcolare il piano di rateizzazione e stampare i modelli F24. Il percorso da seguire ¢ Tutti i servizi — Pagamenti —\\nComunicazioni controllo automatico e formale-calcolo delle rate.\\n\\nRettifica della comunicazione\\n\\nSe Vufficio riscontra degli errori ed elabora una nuova comunicazione tenendo conto delle correzioni, occorre versare\\nl’intero importo residuo o la prima rata entro 30 giorni dal ricevimento della nuova comunicazione.\\n\\nSospensione dei termini\\nIl computo del termine di 30 giorni entro cui effettuare il pagamento dell’intero importo o della prima rata € sospeso nel\\n\\nperiodo compreso tra il 1° agosto e il 4 settembre (art. 7-quater, comma 17, del D.L. n. 193 del 2016).\\n\\nOMESSO, CARENTE O TARDIVO VERSAMENTO DELLE SOMME DOVUTE\\n\\nIl mancato pagamento nei termini delle somme dovute comporta l’iscrizione a ruolo degli importi residui a titolo di\\n\\nimposta, interessi (al tasso annuo ordinario del 4%) e sanzioni calcolate in misura piena (art. 2 del D.Lgs. n. 462 del 1997).\\n\\nIn caso di:\\n\\n- lieve carenza del versamento dell’intera somma dovuta o di una rata, per una frazione non superiore al 3% e, in ogni\\ncaso, a 10.000 euro,\\n\\n- lieve tardivita del versamento dell’intera somma dovuta o della prima rata, non superiore a 7 giorni dalla scadenza,\\novvero di una rata diversa dalla prima entro il termine di pagamento della rata successiva,\\n\\né possibile avvalersi del ravvedimento (art. 13 del D.Lgs. n. 472 del 1997) versando, entro la scadenza della rata\\n\\nsuccessiva 0 entro 90 giorni in caso di versamento in unica soluzione o di ultima rata:\\n\\n- la frazione non pagata, gli interessi legali e la sanzione in misura ridotta nei casi di lieve carenza;\\n\\n- gli interessi legali e la sanzione in misura ridotta nei casi di lieve tardivita,\\n\\nPer il versamento della sanzione ridotta e degli interessi legali si utilizzano rispettivamente i codici tributo 8929 e 1980.\\n\\nSe il ravvedimento non viene correttamente eseguito si procede all’iscrizione a ruolo dell’eventuale frazione non pagata,\\n\\ndegli interessi e della sanzione di cui all’art. 13 del D.Lgs. n. 471 del 1997, commisurati all’importo non versato o versato\\n\\nin ritardo (art. 15-ter del D.P.R. n. 602 del 1973).\\n\\nAgenzia delle Entrate - Centro Operativo di Pescara - Area Gestione e Controlli dei Contribuenti Non Residenti\\nVia Rio Sparto, 21 - 65129 Pescara - PEC cop.pescara@pce.agenziaentrate.it fe\\n\\nfe gh\\n\\nentrate se\\n\\nMODELLO: IVA 2020\\n\\nCODICE FISCALE: 00182909994\\n\\nKP FAMILY INTERNATIONAL GMBH\\n\\nPROTOCOLLO TELEMATICO: 1T200303145626511800000001\\nCOMUNICAZIONE N. 0007153420471 VERSIONE: 01\\nCODICE ATTO: 05053272026\\n\\nTOTALE DELLE SOMME DOVUTE: 734,25\\n\\nDATA ELABORAZIONE: 23-02-2023 (Data aggiornamento comunicazione da parte dell\\'ufficio)\\n\\nINTERMEDIARTO: 00182909994\\n\\nQUADRI DELLA DICHIARAZIONE CHE RISULTANO COMPILATI:\\nVA VE VF VH VJ VL vT\\n\\n** DICHIARAZIONE IRREGOLARE **\\n\\nIl pagamento integrale delle somme richieste con questa comunicazione ovvero della prima rata, in\\n\\ncaso di opzione per il pagamento rateale, deve essere effettuato nel termine di 30 giorni dalla\\n\\nsua avvenuta consegna.\\n\\nFAG. l/ : COMUNICASIONE N. 0007153420471/01 DATA STAMPA 23/02/2023 15:48:01 256 IVA 2020\\nProspetto delle sanzioni e degli interessi relativi a versamenti tardivi\\n\\nCODICE FISCALE: 00182909994\\nKP FAMILY INTERNATIONAL GMBH\\n\\nSANZIONI E INTERESSI RELATIVE A VERSAMENTI TARDIVI |\\n. Sanzione qT anzi Sanzione da versare | Interessi da versare\\nCodice Imposta Data Data Sanzione e Sanzione ¢ Codi Codi\\ntributo versata scadenza versamento . . odice Importo odice Imparto\\n| dovuti versal tribute P [tribute B\\n6001 20.957,00 18-02-2019 15-03-2019 678,95 0,00 9034 628,71 9033 50,24\\n6004 1.572,00 | 16-05-2019 09-07-2029 55,30 0,00 47,16| 9033\\n+ — /\\nanon\\nee en\\n4 1\\n{ am\\n| |\\n|\\n+\\ni\\n|\\nit\\nete\\n+. “+\\n1\\n4\\n“Ty\\n\\nPAG. 2/ 3 COMUNICAZIONE N. 0007153420471/01 DATA STAMPA 23/02/2023 15:48:01 250 . Ray od. F24 determinato |\\nAGENZIA DE DEULE ENTRATE Med precetermin\\n\\nHoDtiiG! | PAGAMENTO DELEGA IRREVOCABILE A:\\nAIO\\n\\nAGENZIA PROV.\\nPER LACCREDITO ALLA TESORERIA COMPETENTE\\n\\nCodice fiscale O0j/0/1/8/2;9/0;/9)9;9;4) | ft | |\\n\\ncognome, denominazione o ragione sociale nome\\n\\nDati anagrafici KP FAMILY INTERNATIONAL GMBH\\n\\nDati riservati\\nall’ufficio\\n\\ncodice tributo anno-di riferimento importo a.debito codice atte\\n\\n9001 2019 73425 05053272026\\n\\nCOPIA PER IL SOGGETTO CHE EFFETTUA\\n\\nPagamento effettuato con assegno n° _ . bancario/postale\\nratto / emesso su ABl CAB circolarefvaglia postale\\nCODICE BANCA/POSTE/CONCESSIONARIO. CODICE BARRE\\n\\ngiorno | mese\\n\\nMod. F24 predeterminato\\n\\nicy PAGAMENTO DELEGA IRREVOCABILE A:\\nCATO\\n\\nAp AGENZIA PROV.\\nPER LACCREDITO ALLA TESORERIA COMPETENTE\\n\\nCodice fiscale 0;01;1/8)2|;9|0;9;/9\\\\9;4; | |\\n\\ncognome, denominazione o ragione sociale nome\\n\\nDati anagrafici KP FAMILY INTERNATIONAL GMBH\\n\\nDati riservati\\nall ufficio\\n\\ncor\\n\\n73425 . 05053272026\\n\\nAutorizzo addebito su\\nc/e bancario/postale n° ABL _ — CAB L.\\n\\nFirma\\n\\ne, futore o curatore fallimentare i\\ni ° \" Pagamento effeituato con assegno n° bancario/postale\\nratto { emesso su ABI CAB circolare/vaglia postale\\n\\nCODICE BANCA/POSTE/CONCESSIONARIO CODICE BARRE\\n\\nHMPORTANTE: NON SCRIVERE NELLA ZONA SOTTOSTANTE RISERVATA ALL\\'UFFICIO\\n\\nCOPIA PER LA BANCA/POSTE/CONCESSIONARIO\\n\\nCAB/SPORTELLO\\n\\n<000000505327202834> 00000734+25>'},\n",
       " {'file_name': '2022-11-24-SKATTESTYRELSEN-DänischeSteuerbehörde-Scan2022-11-24_101422.pdf',\n",
       "  'file_type': '.pdf',\n",
       "  'language': 'en',\n",
       "  'content': 'Wi72 SKATTE \\n£IN6EliAKEN AM 24. NOV. 2022 \\nDutyPay GmbH \\nPirmasenser Str 1 \\n67655 Kaiserslautern \\nDE-\\nPool-Systems GmbH & Co. KG \\nAm Steinbruch 3-5 \\n92559 Winklam \\nTyskland RE 1 - Momsrefusion og \\nmomsreglstrering \\nChristian X\\'s Vej 22 \\n6100 Haderslev \\nTelefon 72 22 18 18 \\nSkat.dk \\n18. november 2022 \\nSE nr.: 13279012 \\nIMPORTANT: \\nIfyou earlier got a letter, where the mentioned deadlines are monthly, you must ignore lt \\nWe apologize for the inconvenience, and send you the corrected version of the letter here: \\nYour company will get new deadlines for reporting and paying VAT in 2023 \\nDear company: \\nWe are writing to inform that your VAT frequency will be changed from 2023. \\nAs a consequence of the change, your company will have to report and pay your VAT twice a \\ny-ear, in Half-yearly periods. \\nFrom 01.01.2023, your company will have to report and pay VAT every 6 months. \\nThe filing frequency is automatically determined once a year, based on the size of your sales \\nsubject to VAT in the previous period (from July to June). \\nYour company is getting new deadlines because your VAT-liable sales in the period from \\n01.July.2021 to 30.June.2022 were up to DKK 5 million or less. IC you have several CVR or SE \\nnumbers, we have looked at the overall sales subject to VAT, including EU and export sales. \\nYour new Half-yearly deadlines begin in 2023: \\nHalf-yearly period in 2023 dma,-,4imeeen. \\nDeadline \\n• 1st.Half-year.2023 (01.01.2023-30.06.2023) 1 September 2023 \\n• 2d.Half-year.2023 (01.07.2023-31.12.2023) 1 March 2024 \\nYou can find the deadlines at: \\nskat.dk select Use the search tool —> Type \"VAT deadlines\" Find \"Half-yearly VAT deadlines\". \\nRemember to insert the new deadlines in your systems and notify the person who is \\nresponsible for reporting and paying the VAT. \\nSkattestyrelsen er en del af Skatteforvaltningen Side 1/ 3 h. - The deadlines for 2022 are unchanged: \\n• If you currently report and pay quarterly, you must report & pay Q4.2022 no later than 01.03.2023. \\n• If you currently report and pay monthly, you must report & pay December.2022 no later than 25.01.2023. \\nYou can request a shorter VAT period: \\n• 1f you are currently reporting and paying VAT every quarter and would Ilke to continue doing so, you must \\nsend a request for that betöre 01.12.2022. \\nYou can send your request on: indberet.virk.dk  . under \"Charuze company \\n• lfyoii are currently reporting and paying VAT every month and would like to continue doing it monthly, \\nyou must send a request for that before 01.12.2022. \\nPlease send your request on: tpdheret.virklh . \\nIn the search field, you should write -31040\". then fill in the form \"Voluntary sftorter senlernein of vAT--. \\nDo you want a new Registration Certificate? \\nYou can sce your 11CW VAT filing frequency on your Registration Certificate by logging on to: \\nskat.dk/tastselverhverv  and choosing \"Profile Registration Certificate\". \\nLaws and rules \\nThe rules on changes to reporting and payment deadlines are set out in section 57 (1) of the VAT Act. \\n6. 7 and 8. I finds the VAT Act at: skat.dk/afgiftslove  . \\nIf you want to complain \\n\\'Ehen you must write to the fax Appeals Board (Skatteankestyrelsen), which must have received the \\ncomplaint no later than three months from the date you received this decision. The National Board of \\nTax Appeals is the secretariat for the National Tax Court and the Boards of Appeal. \\nWrite down all the points you want to complain about and explain, for each point, why you think the \\ndecision is wrong. Attach the decision. If you have received a case presentation together with the deci-\\nsion, you must also attach it. If you have documents that support and substantiate your complaint, vve \\nalso ask you to send them. lf you want a meeting with a caseworker at the Danish Tax Appeals Board, \\nyou must write your telephone number in the complaint. lt costs DKK 1.100 to complain. \\nIf you win your complaint, totally or partially, you will get this fee back. \\nThis is how you send the complaint and pay \\nYou must send the complaint electronically via the Danish Tax Appeals Board\\'s complaint form: \\nhttps://www.skatteankestyrelsen.dk/servicemenu/english/,  wh.ere you also find information on how to \\npay the fee from a foreign account. \\nYou can apply for payment of your advisor \\nIf you get an advisor to help with the complaint, you can in some cases apply to get the advice paid in \\nfull or in part. You can read more about this option at: skat.dk/omkostningsgodtgorelse  . \\nDo you have any questions? \\nYou can read more about reporting and paying VAT on: \\nskat.dk Select --1.nglish- (bot km) of the pagc\\') --> 1;,(2 tlh2 areh tool --> .Fype r returns and deatil ines \\nYou are also welcome to call us at: (+45) 7222 2827 \\nSide 2 / 3  Yours faithfully, \\nThe Danish Tax Agency \\nSide 3 / 3'},\n",
       " {'file_name': '2022-06-07-GolfVersandHannoverGmbH--BehördenschreibenBelgien_2.pdf',\n",
       "  'file_type': '.pdf',\n",
       "  'language': 'fr',\n",
       "  'content': 'v-£00000000\\n\\n9 TEARS Se BDI RIM i a AMEE SERRE NS ST RAP RTE ele\\n\\nService Public\\nFédéral als\\n\\nExp.: TEAM RECOUV.SPECIAL BRUXEL\\nFINANCES BD JARD.BOTANIQUE 50 B3121_1000 BRUXELLES\\n\\nENT E GOLF VERSAND HANNOVER GMBH\\n\\nADMINISTRATION GENERALE KUGELFANGTRIFT 6B\\nDE LA PERCEPTION ET DU 30179 30179 HANNOVER\\nRECOUVREMENT\\n\\nean ene coe ae Se ae em me aan\\n\\nVotre dossier : BE 0743.828.266 - Article no 500.2535.07351 - Procés-verbal notifié le 01/03/2022 -\\n\\nDéclaration de juin 2021\\nAVIS DE SOLDE\\n\\nMadame, Monsieur,\\n\\nVous avez une dette fiscale impayée.\\n\\nVeuillez payer le montant de. °.. endéans les 48 heures de la réception du présent avis sur le\\n\\ncompte IBAN 0 ee a de Recettes -TVA NAMUR avec la communication structurée\\nsuivante 000 te ey\\n\\nVoici le détail de cette dette :\\n\\nTVA Amendes Intéréts sur Intéréts sur Frais Total a payer\\nTVA amendes\\n88,16 € 0,00 € 0,00 € 0,00 € 0,00 € 88,16 €\\n\\nSi vous ne payez pas immédiatement, cette somme sera augmentée de frais de poursuites éventuels.\\nEn aucun cas, ce paiement ne peut étre effectué sur le compte de Recettes TVA Bruxelles.\\n\\nSalutations distinguées,\\n\\nLe conseiller recouvrement - receveur,\\n\\nDes informations complémentaires concernant ce courrier peuvent étre obtenues auprés de :\\n\\nTEAM RECOUV.SPECIAL BRUXEL\\nTél. (service) : 0257/54 080\\n\\nFax (service) : 0257/95 923\\n\\nE-mail (service) : thirsbru@minfin.fed.be\\n\\nHeures de bureau de 9h & 12h ou sur rendez-vous\\n\\n633852-000001 Ol'},\n",
       " {'file_name': '2024-06-13-HMRevenue＆Customs-C79_100004018562_pdf.pdf',\n",
       "  'file_type': '.pdf',\n",
       "  'language': 'en',\n",
       "  'content': \"Monthly import VAT certificate (C79) \\n31 May 2024 Summary of period ending\\nIMPORTANT DOCUMENT\\nKeep this certificate as evidence to support your claim for input tax\\n 11 June 2024 Produced:  Page 1 ACCESSORY LINE S.r.l.\\nVia Obbia bassa, 1/B\\nTrebaseleghe\\n35010\\nVAT registration number: 336955467\\nGB336955467000 EORI number:\\n £69,600.54 Month total:      \\nDeclarant's EORI Number             Declarant Total paid\\nGB222421710003 UPS LTD £172.67\\nGB486936386000INTERNATIONAL FORWARDING \\nLIMITED£67,217.94\\nGB541404872000 TRANSMEC UK LIMITED £2,209.93\\nTotal VAT paid: £69,600.54 Monthly import VAT certificate (C79) \\n31 May 2024 Period ending ACCESSORY LINE S.r.l.\\nVAT registration number: 336955467\\nEORI number: GB336955467000\\nIMPORTANT DOCUMENT\\nKeep this certificate as evidence to support your claim for input tax\\n 11 June 2024 Produced:  Page 2 Transaction    \\ndateMovement reference number \\n(MRN)DeclarantDeclarant's EORI \\nnumberDeclarant's reference number VAT paid\\n06/05/2024 24GB4UVWXTBEJ9FAR3 INTERNATIONAL FORWARDING LIMITE GB486936386000 4GB486936386000-3BRI4050012 £6,046.03\\n11/05/2024 24GB528T2I65UI0AR9 INTERNATIONAL FORWARDING LIMITE GB486936386000 4GB486936386000-3BRI4050063 £6,046.03\\n16/05/2024 24GB5KEE9ZQCCDOAR7 UPS LTD GB222421710003 1Z2F961V6847890555 £172.67\\n17/05/2024 24GB5GDOO4EB5UXAR7 TRANSMEC UK LIMITED GB541404872000 83062190 £2,209.93\\n17/05/2024 24GB5CCBPC7HMA2AR3 INTERNATIONAL FORWARDING LIMITE GB486936386000 4GB486936386000-3BRI4050164 £10,153.01\\n24/05/2024 24GB5M2N1GHQOWFAR8 INTERNATIONAL FORWARDING LIMITE GB486936386000 4GB486936386000-3BRI4050247 £10,746.21\\n31/05/2024 24GB5W3E5POATBGAR8 INTERNATIONAL FORWARDING LIMITE GB486936386000 4GB486936386000-3BRI4050332 £34,226.66\\n       Month total: £69,600.54\"},\n",
       " {'file_name': '2023-12-15-IrishTaxandCustoms-Wolle-KreativeK-Irland-Confirmationofagentlinkremoval.pdf',\n",
       "  'file_type': '.pdf',\n",
       "  'language': 'en',\n",
       "  'content': 'gfdID−ENTITYdfg76316G        gfdID−ENTITYdfg\\n££pdfname££ 9967631600009_1 \\nR O S  14/12/2023In all correspondence please quote:\\nNotice No: 99676316−00009R\\nDUTY PAY GMBH\\nPIRMASENSER STRABE 1\\n67655 KAISERLAUTERN\\nGERMANY\\n  14/12/2023\\nRe: Confirmation of agent link removal\\nDear Sir/Madam,\\nThis is to notify you that this office has been advised that you will no longer be acting as the tax agent for  WOLLE\\nKREATIV E.K. in respect of the following tax\\n4045679IH      −      VAT\\nShould you have any issues with this arrangement, please notify this office immediately. \\nFor the purposes of the Data Protection Acts 1988 and 2003, when a taxpayer appoints a tax agent to act on their\\nbehalf, they are giving full authority to the tax agent to conduct business with Revenue on their behalf. This\\nincludes accessing their PPS number along with associated tax data held on Revenue records and submitting tax\\nreturns. This arrangement will be deemed to continue until Revenue is notified by either party that it has been\\nterminated.\\nYours faithfully, \\nElizabeth M. Reid\\nDistrict Managerni03 v417Enquiries:  01 7383630Elizabeth M. Reid\\nBusiness Division − South East\\nGovernment Buildings\\nHebron Road\\nKilkenny'}]"
      ]
     },
     "execution_count": 11,
     "metadata": {},
     "output_type": "execute_result"
    }
   ],
   "source": [
    "documents_data = process_files_in_folder(folder_path)\n",
    "documents_data"
   ]
  },
  {
   "cell_type": "code",
   "execution_count": 12,
   "id": "8aea6d88-41f5-41a9-bad9-7647769dbd0e",
   "metadata": {},
   "outputs": [
    {
     "data": {
      "text/plain": [
       "[956,\n",
       " 695,\n",
       " 462,\n",
       " 438,\n",
       " 178,\n",
       " 241,\n",
       " 249,\n",
       " 273,\n",
       " 631,\n",
       " 95,\n",
       " 1409,\n",
       " 1537,\n",
       " 799,\n",
       " 232,\n",
       " 182,\n",
       " 181]"
      ]
     },
     "execution_count": 12,
     "metadata": {},
     "output_type": "execute_result"
    }
   ],
   "source": [
    "word_counts = [len(entry['content'].split()) for entry in documents_data]\n",
    "word_counts"
   ]
  },
  {
   "cell_type": "code",
   "execution_count": 13,
   "id": "04094af7-8674-45d2-8101-be46203d86ea",
   "metadata": {},
   "outputs": [
    {
     "data": {
      "text/plain": [
       "534.875"
      ]
     },
     "execution_count": 13,
     "metadata": {},
     "output_type": "execute_result"
    }
   ],
   "source": [
    "average_word_count = sum(word_counts) / len(word_counts)\n",
    "average_word_count"
   ]
  },
  {
   "cell_type": "code",
   "execution_count": 14,
   "id": "e5ab081d-f354-4b11-baef-2b9cae0b6ec1",
   "metadata": {},
   "outputs": [
    {
     "name": "stdout",
     "output_type": "stream",
     "text": [
      "Word count in content of file 2023-08-28-Pool-SystemsGmbH＆CoKG-Tschechien-RegistrierungsbestätigungderSteuerbehörden.pdf: 956\n",
      "Word count in content of file 2022-09-26-SteuerbehördeNiederlande-Scan2022-09-26_103629.pdf: 695\n",
      "Word count in content of file 2024-04-12-FJTradingGmbH-WGNouveaumessagedelaDirectionGénéraledesFinancesPubliques-17207401@taxhubeu.msg: 462\n",
      "Word count in content of file 2021-09-22-EcomBrandsGmbH-SCN_2021_09_22_06_27_55_001.pdf: 438\n",
      "Word count in content of file 2024-01-09-LeGouvernementduGrand-DuchédeLuxembourg-Scan2024-01-09_101639.pdf: 178\n",
      "Word count in content of file 2023-01-16-FinanzamtÖsterreich-Scan2023-01-16_095504.pdf: 241\n",
      "Word count in content of file 2024-04-12-IVYOAKGmbH-20240327145254513.pdf: 249\n",
      "Word count in content of file 2024-02-01-AgenciaTributaria-BehördeschreibenPlastiksteuerRegistrierungspflichtGloryfeeelGmbH.pdf: 273\n",
      "Word count in content of file 2023-10-16-ArteDhioGmbH-SchreibenFinanzamtPolen_919.pdf: 631\n",
      "Word count in content of file 2024-07-19-BundeszentralamtfürSteuern-DE_DE324003056_Q22024_Uebertragungsprotokoll_Steuererklaerung_fuer_die_OSS_EU-Regelung.pdf: 95\n",
      "Word count in content of file 2023-12-20-FinančnaupravaRepublikeSlovenije-EDS_397850101_001.pdf: 1409\n",
      "Word count in content of file 2023-09-12-KPFamilyInternationalGmbH-SchreibenitalBehörden060923.pdf: 1537\n",
      "Word count in content of file 2022-11-24-SKATTESTYRELSEN-DänischeSteuerbehörde-Scan2022-11-24_101422.pdf: 799\n",
      "Word count in content of file 2022-06-07-GolfVersandHannoverGmbH--BehördenschreibenBelgien_2.pdf: 232\n",
      "Word count in content of file 2024-06-13-HMRevenue＆Customs-C79_100004018562_pdf.pdf: 182\n",
      "Word count in content of file 2023-12-15-IrishTaxandCustoms-Wolle-KreativeK-Irland-Confirmationofagentlinkremoval.pdf: 181\n",
      "Average word count in content: 534.88\n"
     ]
    }
   ],
   "source": [
    "for i, count in enumerate(word_counts):\n",
    "    print(f\"Word count in content of file {documents_data[i]['file_name']}: {count}\")\n",
    "\n",
    "print(f\"Average word count in content: {average_word_count:.2f}\")\n"
   ]
  },
  {
   "cell_type": "code",
   "execution_count": 15,
   "id": "8f4f778a-1fa0-44d3-86ff-b9b93d17f2a8",
   "metadata": {},
   "outputs": [
    {
     "name": "stdout",
     "output_type": "stream",
     "text": [
      "Mean Word Count: 534.88\n",
      "95% Confidence Interval: (298.00464275094083, 771.7453572490592)\n"
     ]
    }
   ],
   "source": [
    "import numpy as np\n",
    "from scipy import stats\n",
    "\n",
    "# Sample data\n",
    "\n",
    "# Calculate mean and standard error\n",
    "mean_word_count = np.mean(word_counts)\n",
    "standard_error = stats.sem(word_counts)\n",
    "\n",
    "# Calculate 95% confidence interval\n",
    "confidence_interval = stats.t.interval(0.95, len(word_counts)-1, loc=mean_word_count, scale=standard_error)\n",
    "\n",
    "print(f\"Mean Word Count: {mean_word_count:.2f}\")\n",
    "print(f\"95% Confidence Interval: {confidence_interval}\")\n"
   ]
  },
  {
   "cell_type": "code",
   "execution_count": 16,
   "id": "e4d0e2d0-c205-4115-a330-276ad5f1a5a5",
   "metadata": {},
   "outputs": [
    {
     "name": "stdout",
     "output_type": "stream",
     "text": [
      "Bootstrap Mean Word Count: 535.12\n",
      "Bootstrap 95% Confidence Interval: [342.1859375 757.9484375]\n"
     ]
    }
   ],
   "source": [
    "\n",
    "# Number of bootstrap samples\n",
    "n_bootstrap_samples = 10000\n",
    "\n",
    "# Bootstrap samples of means\n",
    "bootstrap_means = [np.mean(np.random.choice(word_counts, size=len(word_counts), replace=True)) for _ in range(n_bootstrap_samples)]\n",
    "\n",
    "# Calculate 95% confidence interval from bootstrap means\n",
    "bootstrap_confidence_interval = np.percentile(bootstrap_means, [2.5, 97.5])\n",
    "\n",
    "print(f\"Bootstrap Mean Word Count: {np.mean(bootstrap_means):.2f}\")\n",
    "print(f\"Bootstrap 95% Confidence Interval: {bootstrap_confidence_interval}\")\n"
   ]
  },
  {
   "cell_type": "code",
   "execution_count": null,
   "id": "8180db07-a8f0-4678-826c-54cb8f822bf4",
   "metadata": {},
   "outputs": [],
   "source": []
  },
  {
   "cell_type": "code",
   "execution_count": null,
   "id": "a68794ff-8dc1-435e-9c38-ed6a76642cd4",
   "metadata": {},
   "outputs": [],
   "source": []
  },
  {
   "cell_type": "code",
   "execution_count": null,
   "id": "12084740-dc8a-4920-85b3-8d6cb008ef64",
   "metadata": {},
   "outputs": [],
   "source": []
  },
  {
   "cell_type": "code",
   "execution_count": 17,
   "id": "06b6bc67-d0ae-444b-a160-96abdd7d6ce3",
   "metadata": {},
   "outputs": [
    {
     "name": "stdout",
     "output_type": "stream",
     "text": [
      "Data has been saved to extracted_data.json\n"
     ]
    }
   ],
   "source": [
    "output_file = 'extracted_data.json'\n",
    "save_to_json(documents_data, output_file)"
   ]
  },
  {
   "cell_type": "code",
   "execution_count": null,
   "id": "07ecd2da-194e-4a4e-948e-6762145490e6",
   "metadata": {},
   "outputs": [],
   "source": []
  }
 ],
 "metadata": {
  "kernelspec": {
   "display_name": "Python 3 (ipykernel)",
   "language": "python",
   "name": "python3"
  },
  "language_info": {
   "codemirror_mode": {
    "name": "ipython",
    "version": 3
   },
   "file_extension": ".py",
   "mimetype": "text/x-python",
   "name": "python",
   "nbconvert_exporter": "python",
   "pygments_lexer": "ipython3",
   "version": "3.12.4"
  }
 },
 "nbformat": 4,
 "nbformat_minor": 5
}
